{
 "cells": [
  {
   "cell_type": "code",
   "execution_count": 2,
   "id": "6aa2e454-99a8-4351-85d8-d9608b811d2e",
   "metadata": {},
   "outputs": [],
   "source": [
    "import pandas as pd\n",
    "import os\n",
    "import numpy as np\n",
    "import ast\n",
    "import pysam\n",
    "import collections\n",
    "from tqdm import tqdm\n",
    "from Bio.Seq import Seq"
   ]
  },
  {
   "cell_type": "code",
   "execution_count": 3,
   "id": "7200580b-22da-476b-971e-5778204f4278",
   "metadata": {},
   "outputs": [],
   "source": [
    "def quickFilter(df):\n",
    "    REASONING=[]\n",
    "    sidePieces=[]\n",
    "\n",
    "    df2 = df.copy()\n",
    "    \n",
    "    for row in df2.index:\n",
    "        \n",
    "        flags=[]\n",
    "        flag=0\n",
    "\n",
    "        if str(df2.at[row, 'TE_Designation']) == 'SINE/Alu':\n",
    "            \n",
    "            ############################################\n",
    "\n",
    "            if int(df2.at[row, 'Sequence_Length'])>500:\n",
    "                flag+=1\n",
    "                flags.append(\"Alu_>500Len\")\n",
    "            else:\n",
    "                pass\n",
    "            \n",
    "            \n",
    "            ############################################\n",
    "                    \n",
    "            if flag==0:\n",
    "                REASONING.append('Good_Row')\n",
    "            else:\n",
    "                REASONING.append(flags)\n",
    "            \n",
    "        elif str(df2.at[row, 'TE_Designation']) == 'LINE/L1':\n",
    "        \n",
    "            ############################################\n",
    "\n",
    "            if int(df2.at[row, 'Sequence_Length'])>10000:\n",
    "                flag+=1\n",
    "                flags.append(\"LINE_>10kLen\")\n",
    "            else:\n",
    "                pass\n",
    "            \n",
    "            if flag==0:\n",
    "                REASONING.append('Good_Row')\n",
    "            else:\n",
    "                REASONING.append(flags)\n",
    "        \n",
    "        elif str(df2.at[row, 'TE_Designation']) == 'Retroposon/SVA':\n",
    "        \n",
    "            ############################################\n",
    "\n",
    "            if int(df2.at[row, 'Sequence_Length'])>10000:\n",
    "                flag+=1\n",
    "                flags.append(\"SVA_>10kLen\")\n",
    "            else:\n",
    "                pass\n",
    "            \n",
    "            ############################################\n",
    "\n",
    "            if flag==0:\n",
    "                REASONING.append('Good_Row')\n",
    "            else:\n",
    "                REASONING.append(flags)\n",
    "        \n",
    "        \n",
    "        else:\n",
    "            REASONING.append('Good_Row')\n",
    "            \n",
    "            \n",
    "    df2['FILTER_RESULTS']=REASONING\n",
    "    return(df2)"
   ]
  },
  {
   "cell_type": "code",
   "execution_count": 4,
   "id": "87abd589-d3d4-40dd-983c-7e66cbef3fd8",
   "metadata": {},
   "outputs": [
    {
     "name": "stdout",
     "output_type": "stream",
     "text": [
      "GorGor GorGor-mat GorGor-GorGor-mat_blat.txt\n"
     ]
    },
    {
     "name": "stderr",
     "output_type": "stream",
     "text": [
      "100%|██████████| 378968/378968 [00:07<00:00, 50938.96it/s]\n"
     ]
    },
    {
     "name": "stdout",
     "output_type": "stream",
     "text": [
      "GorGor GorGor-pat GorGor-GorGor-pat_blat.txt\n"
     ]
    },
    {
     "name": "stderr",
     "output_type": "stream",
     "text": [
      "100%|██████████| 373193/373193 [00:07<00:00, 52067.56it/s]\n"
     ]
    },
    {
     "name": "stdout",
     "output_type": "stream",
     "text": [
      "GorGor PanPan-mat GorGor-PanPan-mat_blat.txt\n"
     ]
    },
    {
     "name": "stderr",
     "output_type": "stream",
     "text": [
      "100%|██████████| 300941/300941 [00:05<00:00, 51700.35it/s]\n"
     ]
    },
    {
     "name": "stdout",
     "output_type": "stream",
     "text": [
      "GorGor PanPan-pat GorGor-PanPan-pat_blat.txt\n"
     ]
    },
    {
     "name": "stderr",
     "output_type": "stream",
     "text": [
      "100%|██████████| 298588/298588 [00:05<00:00, 51940.12it/s]\n"
     ]
    },
    {
     "name": "stdout",
     "output_type": "stream",
     "text": [
      "GorGor PanTro-alt GorGor-PanTro-alt_blat.txt\n"
     ]
    },
    {
     "name": "stderr",
     "output_type": "stream",
     "text": [
      "100%|██████████| 289501/289501 [00:05<00:00, 51995.11it/s]\n"
     ]
    },
    {
     "name": "stdout",
     "output_type": "stream",
     "text": [
      "GorGor PanTro-pri GorGor-PanTro-pri_blat.txt\n"
     ]
    },
    {
     "name": "stderr",
     "output_type": "stream",
     "text": [
      "100%|██████████| 312435/312435 [00:05<00:00, 52141.83it/s]\n"
     ]
    },
    {
     "name": "stdout",
     "output_type": "stream",
     "text": [
      "GorGor PonAbe-alt GorGor-PonAbe-alt_blat.txt\n"
     ]
    },
    {
     "name": "stderr",
     "output_type": "stream",
     "text": [
      "100%|██████████| 284965/284965 [00:05<00:00, 52084.09it/s]\n"
     ]
    },
    {
     "name": "stdout",
     "output_type": "stream",
     "text": [
      "GorGor PonAbe-pri GorGor-PonAbe-pri_blat.txt\n"
     ]
    },
    {
     "name": "stderr",
     "output_type": "stream",
     "text": [
      "100%|██████████| 307551/307551 [00:05<00:00, 51827.15it/s]\n"
     ]
    },
    {
     "name": "stdout",
     "output_type": "stream",
     "text": [
      "GorGor PonPyg-alt GorGor-PonPyg-alt_blat.txt\n"
     ]
    },
    {
     "name": "stderr",
     "output_type": "stream",
     "text": [
      "100%|██████████| 285480/285480 [00:05<00:00, 51520.35it/s]\n"
     ]
    },
    {
     "name": "stdout",
     "output_type": "stream",
     "text": [
      "GorGor PonPyg-pri GorGor-PonPyg-pri_blat.txt\n"
     ]
    },
    {
     "name": "stderr",
     "output_type": "stream",
     "text": [
      "100%|██████████| 307802/307802 [00:05<00:00, 52275.55it/s]\n"
     ]
    },
    {
     "name": "stdout",
     "output_type": "stream",
     "text": [
      "GorGor SymSyn-alt GorGor-SymSyn-alt_blat.txt\n"
     ]
    },
    {
     "name": "stderr",
     "output_type": "stream",
     "text": [
      "100%|██████████| 283645/283645 [00:05<00:00, 51762.55it/s]\n"
     ]
    },
    {
     "name": "stdout",
     "output_type": "stream",
     "text": [
      "GorGor SymSyn-pri GorGor-SymSyn-pri_blat.txt\n"
     ]
    },
    {
     "name": "stderr",
     "output_type": "stream",
     "text": [
      "100%|██████████| 303186/303186 [00:05<00:00, 51977.00it/s]\n"
     ]
    },
    {
     "name": "stdout",
     "output_type": "stream",
     "text": [
      "GorGor hs1.txt GorGor-hs1.txt\n"
     ]
    },
    {
     "name": "stderr",
     "output_type": "stream",
     "text": [
      "100%|██████████| 301470/301470 [00:05<00:00, 51822.57it/s]\n"
     ]
    },
    {
     "name": "stdout",
     "output_type": "stream",
     "text": [
      "PanPan GorGor-mat PanPan-GorGor-mat_blat.txt\n"
     ]
    },
    {
     "name": "stderr",
     "output_type": "stream",
     "text": [
      "100%|██████████| 103744/103744 [00:01<00:00, 52320.74it/s]\n"
     ]
    },
    {
     "name": "stdout",
     "output_type": "stream",
     "text": [
      "PanPan GorGor-pat PanPan-GorGor-pat_blat.txt\n"
     ]
    },
    {
     "name": "stderr",
     "output_type": "stream",
     "text": [
      "100%|██████████| 102949/102949 [00:01<00:00, 51801.66it/s]\n"
     ]
    },
    {
     "name": "stdout",
     "output_type": "stream",
     "text": [
      "PanPan PanPan-mat PanPan-PanPan-mat_blat.txt\n"
     ]
    },
    {
     "name": "stderr",
     "output_type": "stream",
     "text": [
      "100%|██████████| 128683/128683 [00:02<00:00, 51619.30it/s]\n"
     ]
    },
    {
     "name": "stdout",
     "output_type": "stream",
     "text": [
      "PanPan PanPan-pat PanPan-PanPan-pat_blat.txt\n"
     ]
    },
    {
     "name": "stderr",
     "output_type": "stream",
     "text": [
      "100%|██████████| 125744/125744 [00:02<00:00, 51954.31it/s]\n"
     ]
    },
    {
     "name": "stdout",
     "output_type": "stream",
     "text": [
      "PanPan PanTro-alt PanPan-PanTro-alt_blat.txt\n"
     ]
    },
    {
     "name": "stderr",
     "output_type": "stream",
     "text": [
      "100%|██████████| 128371/128371 [00:02<00:00, 51810.50it/s]\n"
     ]
    },
    {
     "name": "stdout",
     "output_type": "stream",
     "text": [
      "PanPan PanTro-pri PanPan-PanTro-pri_blat.txt\n"
     ]
    },
    {
     "name": "stderr",
     "output_type": "stream",
     "text": [
      "100%|██████████| 136550/136550 [00:02<00:00, 51976.50it/s]\n"
     ]
    },
    {
     "name": "stdout",
     "output_type": "stream",
     "text": [
      "PanPan PonAbe-alt PanPan-PonAbe-alt_blat.txt\n"
     ]
    },
    {
     "name": "stderr",
     "output_type": "stream",
     "text": [
      "100%|██████████| 94829/94829 [00:01<00:00, 51805.37it/s]\n"
     ]
    },
    {
     "name": "stdout",
     "output_type": "stream",
     "text": [
      "PanPan PonAbe-pri PanPan-PonAbe-pri_blat.txt\n"
     ]
    },
    {
     "name": "stderr",
     "output_type": "stream",
     "text": [
      "100%|██████████| 102313/102313 [00:01<00:00, 51705.36it/s]\n"
     ]
    },
    {
     "name": "stdout",
     "output_type": "stream",
     "text": [
      "PanPan PonPyg-alt PanPan-PonPyg-alt_blat.txt\n"
     ]
    },
    {
     "name": "stderr",
     "output_type": "stream",
     "text": [
      "100%|██████████| 95164/95164 [00:01<00:00, 51581.98it/s]\n"
     ]
    },
    {
     "name": "stdout",
     "output_type": "stream",
     "text": [
      "PanPan PonPyg-pri PanPan-PonPyg-pri_blat.txt\n"
     ]
    },
    {
     "name": "stderr",
     "output_type": "stream",
     "text": [
      "100%|██████████| 102250/102250 [00:01<00:00, 51887.60it/s]\n"
     ]
    },
    {
     "name": "stdout",
     "output_type": "stream",
     "text": [
      "PanPan SymSyn-alt PanPan-SymSyn-alt_blat.txt\n"
     ]
    },
    {
     "name": "stderr",
     "output_type": "stream",
     "text": [
      "100%|██████████| 95255/95255 [00:01<00:00, 51675.78it/s]\n"
     ]
    },
    {
     "name": "stdout",
     "output_type": "stream",
     "text": [
      "PanPan SymSyn-pri PanPan-SymSyn-pri_blat.txt\n"
     ]
    },
    {
     "name": "stderr",
     "output_type": "stream",
     "text": [
      "100%|██████████| 101957/101957 [00:01<00:00, 52141.00it/s]\n"
     ]
    },
    {
     "name": "stdout",
     "output_type": "stream",
     "text": [
      "PanPan hs1.txt PanPan-hs1.txt\n"
     ]
    },
    {
     "name": "stderr",
     "output_type": "stream",
     "text": [
      "100%|██████████| 103304/103304 [00:01<00:00, 51744.56it/s]\n"
     ]
    },
    {
     "name": "stdout",
     "output_type": "stream",
     "text": [
      "PanTro GorGor-mat PanTro-GorGor-mat_blat.txt\n"
     ]
    },
    {
     "name": "stderr",
     "output_type": "stream",
     "text": [
      "100%|██████████| 115327/115327 [00:02<00:00, 51714.72it/s]\n"
     ]
    },
    {
     "name": "stdout",
     "output_type": "stream",
     "text": [
      "PanTro GorGor-pat PanTro-GorGor-pat_blat.txt\n"
     ]
    },
    {
     "name": "stderr",
     "output_type": "stream",
     "text": [
      "100%|██████████| 114308/114308 [00:02<00:00, 51709.31it/s]\n"
     ]
    },
    {
     "name": "stdout",
     "output_type": "stream",
     "text": [
      "PanTro PanPan-mat PanTro-PanPan-mat_blat.txt\n"
     ]
    },
    {
     "name": "stderr",
     "output_type": "stream",
     "text": [
      "100%|██████████| 146271/146271 [00:02<00:00, 51693.81it/s]\n"
     ]
    },
    {
     "name": "stdout",
     "output_type": "stream",
     "text": [
      "PanTro PanPan-pat PanTro-PanPan-pat_blat.txt\n"
     ]
    },
    {
     "name": "stderr",
     "output_type": "stream",
     "text": [
      "100%|██████████| 143222/143222 [00:02<00:00, 51639.10it/s]\n"
     ]
    },
    {
     "name": "stdout",
     "output_type": "stream",
     "text": [
      "PanTro PanTro-alt PanTro-PanTro-alt_blat.txt\n"
     ]
    },
    {
     "name": "stderr",
     "output_type": "stream",
     "text": [
      "100%|██████████| 146635/146635 [00:02<00:00, 51378.71it/s]\n"
     ]
    },
    {
     "name": "stdout",
     "output_type": "stream",
     "text": [
      "PanTro PanTro-pri PanTro-PanTro-pri_blat.txt\n"
     ]
    },
    {
     "name": "stderr",
     "output_type": "stream",
     "text": [
      "100%|██████████| 156350/156350 [00:03<00:00, 51238.21it/s]\n"
     ]
    },
    {
     "name": "stdout",
     "output_type": "stream",
     "text": [
      "PanTro PonAbe-alt PanTro-PonAbe-alt_blat.txt\n"
     ]
    },
    {
     "name": "stderr",
     "output_type": "stream",
     "text": [
      "100%|██████████| 107447/107447 [00:02<00:00, 51540.20it/s]\n"
     ]
    },
    {
     "name": "stdout",
     "output_type": "stream",
     "text": [
      "PanTro PonAbe-pri PanTro-PonAbe-pri_blat.txt\n"
     ]
    },
    {
     "name": "stderr",
     "output_type": "stream",
     "text": [
      "100%|██████████| 115536/115536 [00:02<00:00, 52058.52it/s]\n"
     ]
    },
    {
     "name": "stdout",
     "output_type": "stream",
     "text": [
      "PanTro PonPyg-alt PanTro-PonPyg-alt_blat.txt\n"
     ]
    },
    {
     "name": "stderr",
     "output_type": "stream",
     "text": [
      "100%|██████████| 107651/107651 [00:02<00:00, 51534.51it/s]\n"
     ]
    },
    {
     "name": "stdout",
     "output_type": "stream",
     "text": [
      "PanTro PonPyg-pri PanTro-PonPyg-pri_blat.txt\n"
     ]
    },
    {
     "name": "stderr",
     "output_type": "stream",
     "text": [
      "100%|██████████| 115498/115498 [00:02<00:00, 52030.28it/s]\n"
     ]
    },
    {
     "name": "stdout",
     "output_type": "stream",
     "text": [
      "PanTro SymSyn-alt PanTro-SymSyn-alt_blat.txt\n"
     ]
    },
    {
     "name": "stderr",
     "output_type": "stream",
     "text": [
      "100%|██████████| 108229/108229 [00:02<00:00, 51724.29it/s]\n"
     ]
    },
    {
     "name": "stdout",
     "output_type": "stream",
     "text": [
      "PanTro SymSyn-pri PanTro-SymSyn-pri_blat.txt\n"
     ]
    },
    {
     "name": "stderr",
     "output_type": "stream",
     "text": [
      "100%|██████████| 115544/115544 [00:02<00:00, 51542.81it/s]\n"
     ]
    },
    {
     "name": "stdout",
     "output_type": "stream",
     "text": [
      "PanTro hs1.txt PanTro-hs1.txt\n"
     ]
    },
    {
     "name": "stderr",
     "output_type": "stream",
     "text": [
      "100%|██████████| 115915/115915 [00:02<00:00, 51504.00it/s]\n"
     ]
    },
    {
     "name": "stdout",
     "output_type": "stream",
     "text": [
      "PonAbe GorGor-mat PonAbe-GorGor-mat_blat.txt\n"
     ]
    },
    {
     "name": "stderr",
     "output_type": "stream",
     "text": [
      "100%|██████████| 198473/198473 [00:03<00:00, 51590.60it/s]\n"
     ]
    },
    {
     "name": "stdout",
     "output_type": "stream",
     "text": [
      "PonAbe GorGor-pat PonAbe-GorGor-pat_blat.txt\n"
     ]
    },
    {
     "name": "stderr",
     "output_type": "stream",
     "text": [
      "100%|██████████| 197653/197653 [00:03<00:00, 51632.43it/s]\n"
     ]
    },
    {
     "name": "stdout",
     "output_type": "stream",
     "text": [
      "PonAbe PanPan-mat PonAbe-PanPan-mat_blat.txt\n"
     ]
    },
    {
     "name": "stderr",
     "output_type": "stream",
     "text": [
      "100%|██████████| 197963/197963 [00:03<00:00, 51886.82it/s]\n"
     ]
    },
    {
     "name": "stdout",
     "output_type": "stream",
     "text": [
      "PonAbe PanPan-pat PonAbe-PanPan-pat_blat.txt\n"
     ]
    },
    {
     "name": "stderr",
     "output_type": "stream",
     "text": [
      "100%|██████████| 197196/197196 [00:03<00:00, 52023.71it/s]\n"
     ]
    },
    {
     "name": "stdout",
     "output_type": "stream",
     "text": [
      "PonAbe PanTro-alt PonAbe-PanTro-alt_blat.txt\n"
     ]
    },
    {
     "name": "stderr",
     "output_type": "stream",
     "text": [
      "100%|██████████| 190173/190173 [00:03<00:00, 51926.86it/s]\n"
     ]
    },
    {
     "name": "stdout",
     "output_type": "stream",
     "text": [
      "PonAbe PanTro-pri PonAbe-PanTro-pri_blat.txt\n"
     ]
    },
    {
     "name": "stderr",
     "output_type": "stream",
     "text": [
      "100%|██████████| 206354/206354 [00:03<00:00, 51905.77it/s]\n"
     ]
    },
    {
     "name": "stdout",
     "output_type": "stream",
     "text": [
      "PonAbe PonAbe-alt PonAbe-PonAbe-alt_blat.txt\n"
     ]
    },
    {
     "name": "stderr",
     "output_type": "stream",
     "text": [
      "100%|██████████| 202215/202215 [00:03<00:00, 51883.68it/s]\n"
     ]
    },
    {
     "name": "stdout",
     "output_type": "stream",
     "text": [
      "PonAbe PonAbe-pri PonAbe-PonAbe-pri_blat.txt\n"
     ]
    },
    {
     "name": "stderr",
     "output_type": "stream",
     "text": [
      "100%|██████████| 219515/219515 [00:04<00:00, 51539.20it/s]\n"
     ]
    },
    {
     "name": "stdout",
     "output_type": "stream",
     "text": [
      "PonAbe PonPyg-alt PonAbe-PonPyg-alt_blat.txt\n"
     ]
    },
    {
     "name": "stderr",
     "output_type": "stream",
     "text": [
      "100%|██████████| 203962/203962 [00:03<00:00, 51676.15it/s]\n"
     ]
    },
    {
     "name": "stdout",
     "output_type": "stream",
     "text": [
      "PonAbe PonPyg-pri PonAbe-PonPyg-pri_blat.txt\n"
     ]
    },
    {
     "name": "stderr",
     "output_type": "stream",
     "text": [
      "100%|██████████| 219488/219488 [00:04<00:00, 51917.79it/s]\n"
     ]
    },
    {
     "name": "stdout",
     "output_type": "stream",
     "text": [
      "PonAbe SymSyn-alt PonAbe-SymSyn-alt_blat.txt\n"
     ]
    },
    {
     "name": "stderr",
     "output_type": "stream",
     "text": [
      "100%|██████████| 193085/193085 [00:03<00:00, 52023.32it/s]\n"
     ]
    },
    {
     "name": "stdout",
     "output_type": "stream",
     "text": [
      "PonAbe SymSyn-pri PonAbe-SymSyn-pri_blat.txt\n"
     ]
    },
    {
     "name": "stderr",
     "output_type": "stream",
     "text": [
      "100%|██████████| 206513/206513 [00:03<00:00, 51947.36it/s]\n"
     ]
    },
    {
     "name": "stdout",
     "output_type": "stream",
     "text": [
      "PonAbe hs1.txt PonAbe-hs1.txt\n"
     ]
    },
    {
     "name": "stderr",
     "output_type": "stream",
     "text": [
      "100%|██████████| 198941/198941 [00:03<00:00, 51780.68it/s]\n"
     ]
    },
    {
     "name": "stdout",
     "output_type": "stream",
     "text": [
      "PonPyg GorGor-mat PonPyg-GorGor-mat_blat.txt\n"
     ]
    },
    {
     "name": "stderr",
     "output_type": "stream",
     "text": [
      "100%|██████████| 200059/200059 [00:03<00:00, 51486.77it/s]\n"
     ]
    },
    {
     "name": "stdout",
     "output_type": "stream",
     "text": [
      "PonPyg GorGor-pat PonPyg-GorGor-pat_blat.txt\n"
     ]
    },
    {
     "name": "stderr",
     "output_type": "stream",
     "text": [
      "100%|██████████| 199160/199160 [00:03<00:00, 51692.23it/s]\n"
     ]
    },
    {
     "name": "stdout",
     "output_type": "stream",
     "text": [
      "PonPyg PanPan-mat PonPyg-PanPan-mat_blat.txt\n"
     ]
    },
    {
     "name": "stderr",
     "output_type": "stream",
     "text": [
      "100%|██████████| 198980/198980 [00:03<00:00, 51632.73it/s]\n"
     ]
    },
    {
     "name": "stdout",
     "output_type": "stream",
     "text": [
      "PonPyg PanPan-pat PonPyg-PanPan-pat_blat.txt\n"
     ]
    },
    {
     "name": "stderr",
     "output_type": "stream",
     "text": [
      "100%|██████████| 197764/197764 [00:03<00:00, 51725.23it/s]\n"
     ]
    },
    {
     "name": "stdout",
     "output_type": "stream",
     "text": [
      "PonPyg PanTro-alt PonPyg-PanTro-alt_blat.txt\n"
     ]
    },
    {
     "name": "stderr",
     "output_type": "stream",
     "text": [
      "100%|██████████| 191242/191242 [00:03<00:00, 51726.56it/s]\n"
     ]
    },
    {
     "name": "stdout",
     "output_type": "stream",
     "text": [
      "PonPyg PanTro-pri PonPyg-PanTro-pri_blat.txt\n"
     ]
    },
    {
     "name": "stderr",
     "output_type": "stream",
     "text": [
      "100%|██████████| 206978/206978 [00:04<00:00, 51577.38it/s]\n"
     ]
    },
    {
     "name": "stdout",
     "output_type": "stream",
     "text": [
      "PonPyg PonAbe-alt PonPyg-PonAbe-alt_blat.txt\n"
     ]
    },
    {
     "name": "stderr",
     "output_type": "stream",
     "text": [
      "100%|██████████| 211095/211095 [00:04<00:00, 51965.95it/s]\n"
     ]
    },
    {
     "name": "stdout",
     "output_type": "stream",
     "text": [
      "PonPyg PonAbe-pri PonPyg-PonAbe-pri_blat.txt\n"
     ]
    },
    {
     "name": "stderr",
     "output_type": "stream",
     "text": [
      "100%|██████████| 228004/228004 [00:04<00:00, 51712.47it/s]\n"
     ]
    },
    {
     "name": "stdout",
     "output_type": "stream",
     "text": [
      "PonPyg PonPyg-alt PonPyg-PonPyg-alt_blat.txt\n"
     ]
    },
    {
     "name": "stderr",
     "output_type": "stream",
     "text": [
      "100%|██████████| 213653/213653 [00:04<00:00, 51672.91it/s]\n"
     ]
    },
    {
     "name": "stdout",
     "output_type": "stream",
     "text": [
      "PonPyg PonPyg-pri PonPyg-PonPyg-pri_blat.txt\n"
     ]
    },
    {
     "name": "stderr",
     "output_type": "stream",
     "text": [
      "100%|██████████| 228808/228808 [00:04<00:00, 51530.01it/s]\n"
     ]
    },
    {
     "name": "stdout",
     "output_type": "stream",
     "text": [
      "PonPyg SymSyn-alt PonPyg-SymSyn-alt_blat.txt\n"
     ]
    },
    {
     "name": "stderr",
     "output_type": "stream",
     "text": [
      "100%|██████████| 189358/189358 [00:03<00:00, 51970.75it/s]\n"
     ]
    },
    {
     "name": "stdout",
     "output_type": "stream",
     "text": [
      "PonPyg SymSyn-pri PonPyg-SymSyn-pri_blat.txt\n"
     ]
    },
    {
     "name": "stderr",
     "output_type": "stream",
     "text": [
      "100%|██████████| 201801/201801 [00:03<00:00, 51288.24it/s]\n"
     ]
    },
    {
     "name": "stdout",
     "output_type": "stream",
     "text": [
      "PonPyg hs1.txt PonPyg-hs1.txt\n"
     ]
    },
    {
     "name": "stderr",
     "output_type": "stream",
     "text": [
      "100%|██████████| 199783/199783 [00:03<00:00, 51352.56it/s]\n"
     ]
    },
    {
     "name": "stdout",
     "output_type": "stream",
     "text": [
      "SymSyn GorGor-mat SymSyn-GorGor-mat_blat.txt\n"
     ]
    },
    {
     "name": "stderr",
     "output_type": "stream",
     "text": [
      "100%|██████████| 1106729/1106729 [00:29<00:00, 37708.99it/s]\n"
     ]
    },
    {
     "name": "stdout",
     "output_type": "stream",
     "text": [
      "SymSyn GorGor-pat SymSyn-GorGor-pat_blat.txt\n"
     ]
    },
    {
     "name": "stderr",
     "output_type": "stream",
     "text": [
      "100%|██████████| 1090412/1090412 [00:28<00:00, 38168.56it/s]\n"
     ]
    },
    {
     "name": "stdout",
     "output_type": "stream",
     "text": [
      "SymSyn PanPan-mat SymSyn-PanPan-mat_blat.txt\n"
     ]
    },
    {
     "name": "stderr",
     "output_type": "stream",
     "text": [
      "100%|██████████| 1106262/1106262 [00:28<00:00, 38684.24it/s]\n"
     ]
    },
    {
     "name": "stdout",
     "output_type": "stream",
     "text": [
      "SymSyn PanPan-pat SymSyn-PanPan-pat_blat.txt\n"
     ]
    },
    {
     "name": "stderr",
     "output_type": "stream",
     "text": [
      "100%|██████████| 1089916/1089916 [00:29<00:00, 37380.51it/s]\n"
     ]
    },
    {
     "name": "stdout",
     "output_type": "stream",
     "text": [
      "SymSyn PanTro-alt SymSyn-PanTro-alt_blat.txt\n"
     ]
    },
    {
     "name": "stderr",
     "output_type": "stream",
     "text": [
      "100%|██████████| 1057936/1057936 [00:27<00:00, 37901.50it/s]\n"
     ]
    },
    {
     "name": "stdout",
     "output_type": "stream",
     "text": [
      "SymSyn PanTro-pri SymSyn-PanTro-pri_blat.txt\n"
     ]
    },
    {
     "name": "stderr",
     "output_type": "stream",
     "text": [
      "100%|██████████| 1140930/1140930 [00:30<00:00, 37495.16it/s]\n"
     ]
    },
    {
     "name": "stdout",
     "output_type": "stream",
     "text": [
      "SymSyn PonAbe-alt SymSyn-PonAbe-alt_blat.txt\n"
     ]
    },
    {
     "name": "stderr",
     "output_type": "stream",
     "text": [
      "100%|██████████| 1058102/1058102 [00:28<00:00, 37701.37it/s]\n"
     ]
    },
    {
     "name": "stdout",
     "output_type": "stream",
     "text": [
      "SymSyn PonAbe-pri SymSyn-PonAbe-pri_blat.txt\n"
     ]
    },
    {
     "name": "stderr",
     "output_type": "stream",
     "text": [
      "100%|██████████| 1135882/1135882 [00:30<00:00, 37741.37it/s]\n"
     ]
    },
    {
     "name": "stdout",
     "output_type": "stream",
     "text": [
      "SymSyn PonPyg-alt SymSyn-PonPyg-alt_blat.txt\n"
     ]
    },
    {
     "name": "stderr",
     "output_type": "stream",
     "text": [
      "100%|██████████| 1058940/1058940 [00:28<00:00, 37802.77it/s]\n"
     ]
    },
    {
     "name": "stdout",
     "output_type": "stream",
     "text": [
      "SymSyn PonPyg-pri SymSyn-PonPyg-pri_blat.txt\n"
     ]
    },
    {
     "name": "stderr",
     "output_type": "stream",
     "text": [
      "100%|██████████| 1135963/1135963 [00:30<00:00, 37174.97it/s]\n"
     ]
    },
    {
     "name": "stdout",
     "output_type": "stream",
     "text": [
      "SymSyn SymSyn-alt SymSyn-SymSyn-alt_blat.txt\n"
     ]
    },
    {
     "name": "stderr",
     "output_type": "stream",
     "text": [
      "100%|██████████| 1243477/1243477 [00:32<00:00, 37797.02it/s]\n"
     ]
    },
    {
     "name": "stdout",
     "output_type": "stream",
     "text": [
      "SymSyn SymSyn-pri SymSyn-SymSyn-pri_blat.txt\n"
     ]
    },
    {
     "name": "stderr",
     "output_type": "stream",
     "text": [
      "100%|██████████| 1319943/1319943 [00:34<00:00, 38379.71it/s]\n"
     ]
    },
    {
     "name": "stdout",
     "output_type": "stream",
     "text": [
      "SymSyn hs1.txt SymSyn-hs1.txt\n"
     ]
    },
    {
     "name": "stderr",
     "output_type": "stream",
     "text": [
      "100%|██████████| 1108577/1108577 [00:28<00:00, 38503.37it/s]\n"
     ]
    },
    {
     "name": "stdout",
     "output_type": "stream",
     "text": [
      "hs1 GorGor-mat hs1-GorGor-mat_blat.txt\n"
     ]
    },
    {
     "name": "stderr",
     "output_type": "stream",
     "text": [
      "100%|██████████| 682829/682829 [00:13<00:00, 51386.11it/s]\n"
     ]
    },
    {
     "name": "stdout",
     "output_type": "stream",
     "text": [
      "hs1 GorGor-pat hs1-GorGor-pat_blat.txt\n"
     ]
    },
    {
     "name": "stderr",
     "output_type": "stream",
     "text": [
      "100%|██████████| 678315/678315 [00:13<00:00, 51383.94it/s]\n"
     ]
    },
    {
     "name": "stdout",
     "output_type": "stream",
     "text": [
      "hs1 PanPan-mat hs1-PanPan-mat_blat.txt\n"
     ]
    },
    {
     "name": "stderr",
     "output_type": "stream",
     "text": [
      "100%|██████████| 688742/688742 [00:13<00:00, 51202.18it/s]\n"
     ]
    },
    {
     "name": "stdout",
     "output_type": "stream",
     "text": [
      "hs1 PanPan-pat hs1-PanPan-pat_blat.txt\n"
     ]
    },
    {
     "name": "stderr",
     "output_type": "stream",
     "text": [
      "100%|██████████| 688109/688109 [00:13<00:00, 51304.45it/s]\n"
     ]
    },
    {
     "name": "stdout",
     "output_type": "stream",
     "text": [
      "hs1 PanTro-alt hs1-PanTro-alt_blat.txt\n"
     ]
    },
    {
     "name": "stderr",
     "output_type": "stream",
     "text": [
      "100%|██████████| 668461/668461 [00:12<00:00, 51675.34it/s]\n"
     ]
    },
    {
     "name": "stdout",
     "output_type": "stream",
     "text": [
      "hs1 PanTro-pri hs1-PanTro-pri_blat.txt\n"
     ]
    },
    {
     "name": "stderr",
     "output_type": "stream",
     "text": [
      "100%|██████████| 720226/720226 [00:13<00:00, 51570.88it/s]\n"
     ]
    },
    {
     "name": "stdout",
     "output_type": "stream",
     "text": [
      "hs1 PonAbe-alt hs1-PonAbe-alt_blat.txt\n"
     ]
    },
    {
     "name": "stderr",
     "output_type": "stream",
     "text": [
      "100%|██████████| 642669/642669 [00:12<00:00, 51472.99it/s]\n"
     ]
    },
    {
     "name": "stdout",
     "output_type": "stream",
     "text": [
      "hs1 PonAbe-pri hs1-PonAbe-pri_blat.txt\n"
     ]
    },
    {
     "name": "stderr",
     "output_type": "stream",
     "text": [
      "100%|██████████| 698261/698261 [00:13<00:00, 51560.05it/s]\n"
     ]
    },
    {
     "name": "stdout",
     "output_type": "stream",
     "text": [
      "hs1 PonPyg-alt hs1-PonPyg-alt_blat.txt\n"
     ]
    },
    {
     "name": "stderr",
     "output_type": "stream",
     "text": [
      "100%|██████████| 644612/644612 [00:12<00:00, 51664.59it/s]\n"
     ]
    },
    {
     "name": "stdout",
     "output_type": "stream",
     "text": [
      "hs1 PonPyg-pri hs1-PonPyg-pri_blat.txt\n"
     ]
    },
    {
     "name": "stderr",
     "output_type": "stream",
     "text": [
      "100%|██████████| 695300/695300 [00:13<00:00, 51843.48it/s]\n"
     ]
    },
    {
     "name": "stdout",
     "output_type": "stream",
     "text": [
      "hs1 SymSyn-alt hs1-SymSyn-alt_blat.txt\n"
     ]
    },
    {
     "name": "stderr",
     "output_type": "stream",
     "text": [
      "100%|██████████| 636460/636460 [00:12<00:00, 51738.08it/s]\n"
     ]
    },
    {
     "name": "stdout",
     "output_type": "stream",
     "text": [
      "hs1 SymSyn-pri hs1-SymSyn-pri_blat.txt\n"
     ]
    },
    {
     "name": "stderr",
     "output_type": "stream",
     "text": [
      "100%|██████████| 681091/681091 [00:13<00:00, 51607.15it/s]\n"
     ]
    },
    {
     "name": "stdout",
     "output_type": "stream",
     "text": [
      "hs1 hs1.txt hs1-hs1.txt\n"
     ]
    },
    {
     "name": "stderr",
     "output_type": "stream",
     "text": [
      "100%|██████████| 724267/724267 [00:14<00:00, 50917.85it/s]\n"
     ]
    }
   ],
   "source": [
    "directory = '/project/mkonkel/tangeno/TEleaves/LS_Primates/dataframes/'\n",
    "elementList = ['LINE/L1','snRNA','srpRNA','Retroposon/SVA','SINE/Alu']\n",
    "#completeRunsSpecies=['hs1','PanTro']\n",
    "#completeRunsSpecies=['PanPan']\n",
    "\n",
    "speciesLSDirectory={}\n",
    "for speciesDataframe in os.listdir(directory):\n",
    "    \n",
    "    if '6nt.csv' in speciesDataframe:\n",
    "        \n",
    "        #Current Species Name EX: GorGor\n",
    "        speciesName = str(speciesDataframe.split(\"_\")[0])\n",
    "        \n",
    "        #Add species to dictionary\n",
    "        speciesLSDirectory[speciesName]={}\n",
    "        \n",
    "        #Read in the INSERTION DATAFRAME\n",
    "        preworkingDF = pd.read_csv(directory+speciesDataframe).set_index(\"ID\")\n",
    "        workingDF = preworkingDF[(preworkingDF['TE_Percentage']>=0.2) & (preworkingDF['A-Tail_Length']>0) & (preworkingDF['TE_Designation'].isin(elementList))].copy()\n",
    "        filteredDF = quickFilter(workingDF)\n",
    "        filteredDF2 = filteredDF[filteredDF['FILTER_RESULTS']=='Good_Row'].copy()\n",
    "        \n",
    "        #Build Dictionary\n",
    "        for row in filteredDF2.index:\n",
    "            speciesLSDirectory[speciesName][row]={}\n",
    "            \n",
    "        #clean memory\n",
    "        del preworkingDF, workingDF, filteredDF\n",
    "        \n",
    "        #Species File is the blat file\n",
    "        for speciesFile in os.listdir('/project/mkonkel/tangeno/TEleaves/LS_Primates/blat/'):\n",
    "            \n",
    "            if '.fasta' in str(speciesFile) or 'txt.tmp' in str(speciesFile):\n",
    "                continue\n",
    "            else:\n",
    "                \n",
    "                if speciesName == str(speciesFile.split(\"-\")[0]):\n",
    "                    \n",
    "                    #Which species it blatted against\n",
    "                    speciesTwo = str('-'.join(speciesFile.split(\"_blat\")[0].split(\"-\")[1:]))\n",
    "                \n",
    "                    print(speciesName, speciesTwo, speciesFile)\n",
    "                    #Read in blat file\n",
    "                    f = open('/project/mkonkel/tangeno/TEleaves/LS_Primates/blat/'+str(speciesFile),'r')\n",
    "                    lines = f.readlines()[5:]\n",
    "                    blatDF = pd.DataFrame(data=[x.split(\"\\t\") for x in lines])\n",
    "                    blatDF[0]=blatDF[0].astype(int)\n",
    "                    blatDFF = blatDF[blatDF[9].isin(speciesLSDirectory[speciesName].keys())].copy()\n",
    "                    del blatDF\n",
    "                    f.close()\n",
    "\n",
    "                    if speciesName == speciesTwo:\n",
    "                        \n",
    "                        goodRows=[]\n",
    "                        for row in tqdm(blatDFF.index):\n",
    "                            size = int(filteredDF2.at[blatDFF.at[row,9], 'Sequence_Length'])\n",
    "\n",
    "                            contig = str(blatDFF.at[row,9].split(\":\")[0])\n",
    "                            start = int(blatDFF.at[row,9].split(\":\")[1].split(\"-\")[0])-500\n",
    "\n",
    "                            blatContig = str(blatDFF.at[row,13])\n",
    "                            blatStart = int(blatDFF.at[row,15])\n",
    "\n",
    "                            if contig == blatContig and abs(start-blatStart)<=100:\n",
    "                                continue\n",
    "                            elif abs(size-int(blatDFF.at[row,7]))< (.3*size) and abs(start-blatStart)>100:\n",
    "                                goodRows.append(row)\n",
    "                            else:\n",
    "                                continue\n",
    "                    else:\n",
    "                        goodRows=[]\n",
    "                        for row in tqdm(blatDFF.index):\n",
    "                            size = int(filteredDF2.at[blatDFF.at[row,9], 'Sequence_Length'])\n",
    "\n",
    "                            contig = str(blatDFF.at[row,9].split(\":\")[0])\n",
    "                            start = int(blatDFF.at[row,9].split(\":\")[1].split(\"-\")[0])-500\n",
    "\n",
    "                            blatContig = str(blatDFF.at[row,13])\n",
    "                            blatStart = int(blatDFF.at[row,15])\n",
    "\n",
    "                            if abs(size-int(blatDFF.at[row,7]))< (.3*size) and abs(start-blatStart)>100:\n",
    "                                goodRows.append(row)\n",
    "                            else:\n",
    "                                continue\n",
    "\n",
    "                    blatDF2 = blatDFF.loc[goodRows].copy()\n",
    "                    del blatDFF\n",
    "\n",
    "                    for row in blatDF2.index:\n",
    "                        if speciesTwo in speciesLSDirectory[speciesName][str(blatDF2.at[row,9])].keys():\n",
    "                            speciesLSDirectory[speciesName][str(blatDF2.at[row,9])][speciesTwo].append(str(blatDF2.at[row,8])+\"_\"+str(blatDF2.at[row,13])+\":\"+str(blatDF2.at[row,15])+\"-\"+str(blatDF2.at[row,16]))\n",
    "                        else:\n",
    "                            speciesLSDirectory[speciesName][str(blatDF2.at[row,9])][speciesTwo]=[]\n",
    "                            speciesLSDirectory[speciesName][str(blatDF2.at[row,9])][speciesTwo].append(str(blatDF2.at[row,8])+\"_\"+str(blatDF2.at[row,13])+\":\"+str(blatDF2.at[row,15])+\"-\"+str(blatDF2.at[row,16]))\n",
    "                else:\n",
    "                    continue\n",
    "\n",
    "    else:\n",
    "        continue"
   ]
  },
  {
   "cell_type": "code",
   "execution_count": 5,
   "id": "51e2185a-a8ad-4dfc-a981-6971fa945585",
   "metadata": {},
   "outputs": [
    {
     "name": "stderr",
     "output_type": "stream",
     "text": [
      "100%|██████████| 4653/4653 [00:00<00:00, 957845.23it/s]\n"
     ]
    }
   ],
   "source": [
    "orang1List =[]\n",
    "for loci in tqdm(speciesLSDirectory['PonAbe'].keys()):\n",
    "    for species in speciesLSDirectory['PonAbe'][loci].keys():\n",
    "        orang1List.append(['PonAbe',loci, species, speciesLSDirectory['PonAbe'][loci][species]])\n",
    "PonAbeDF = pd.DataFrame(data=orang1List, columns=['Focus_Species','Loci','Query_Species','Matches'])"
   ]
  },
  {
   "cell_type": "code",
   "execution_count": 6,
   "id": "d1b8a3ba-bbff-4fe7-87a9-73928910b3bf",
   "metadata": {},
   "outputs": [
    {
     "name": "stderr",
     "output_type": "stream",
     "text": [
      "100%|██████████| 4712/4712 [00:00<00:00, 793048.45it/s]\n"
     ]
    }
   ],
   "source": [
    "panpan1List =[]\n",
    "for loci in tqdm(speciesLSDirectory['PanPan'].keys()):\n",
    "    for species in speciesLSDirectory['PanPan'][loci].keys():\n",
    "        panpan1List.append(['PanPan',loci, species, speciesLSDirectory['PanPan'][loci][species]])\n",
    "PanPanDF = pd.DataFrame(data=panpan1List, columns=['Focus_Species','Loci','Query_Species','Matches'])"
   ]
  },
  {
   "cell_type": "code",
   "execution_count": 7,
   "id": "a863d016-d6c7-4a10-9e31-5d2231724c82",
   "metadata": {},
   "outputs": [
    {
     "name": "stderr",
     "output_type": "stream",
     "text": [
      "100%|██████████| 5145/5145 [00:00<00:00, 914626.35it/s]\n"
     ]
    }
   ],
   "source": [
    "orang2List =[]\n",
    "for loci in tqdm(speciesLSDirectory['PonPyg'].keys()):\n",
    "    for species in speciesLSDirectory['PonPyg'][loci].keys():\n",
    "        orang2List.append(['PonPyg',loci, species, speciesLSDirectory['PonPyg'][loci][species]])\n",
    "PonPygDF = pd.DataFrame(data=orang2List, columns=['Focus_Species','Loci','Query_Species','Matches'])"
   ]
  },
  {
   "cell_type": "code",
   "execution_count": 8,
   "id": "51b0c5f7-7e80-4bb9-9c4c-2999ec4c0e99",
   "metadata": {},
   "outputs": [
    {
     "name": "stderr",
     "output_type": "stream",
     "text": [
      "100%|██████████| 17492/17492 [00:00<00:00, 775358.69it/s]\n"
     ]
    }
   ],
   "source": [
    "humanList =[]\n",
    "for loci in tqdm(speciesLSDirectory['hs1'].keys()):\n",
    "    for species in speciesLSDirectory['hs1'][loci].keys():\n",
    "        humanList.append(['hs1',loci, species, speciesLSDirectory['hs1'][loci][species]])\n",
    "hs1DF = pd.DataFrame(data=humanList, columns=['Focus_Species','Loci','Query_Species','Matches'])"
   ]
  },
  {
   "cell_type": "code",
   "execution_count": 9,
   "id": "c76e6e87-1cdd-4303-bcad-1bb31ed2d759",
   "metadata": {},
   "outputs": [
    {
     "name": "stderr",
     "output_type": "stream",
     "text": [
      "100%|██████████| 13214/13214 [00:00<00:00, 1171868.76it/s]\n"
     ]
    }
   ],
   "source": [
    "gorillaList =[]\n",
    "for loci in tqdm(speciesLSDirectory['GorGor'].keys()):\n",
    "    for species in speciesLSDirectory['GorGor'][loci].keys():\n",
    "        gorillaList.append(['GorGor',loci, species, speciesLSDirectory['GorGor'][loci][species]])\n",
    "gorillaDF = pd.DataFrame(data=gorillaList, columns=['Focus_Species','Loci','Query_Species','Matches'])"
   ]
  },
  {
   "cell_type": "code",
   "execution_count": 10,
   "id": "334e1463-e761-4414-9386-0c9cb14912d6",
   "metadata": {},
   "outputs": [
    {
     "name": "stderr",
     "output_type": "stream",
     "text": [
      "100%|██████████| 112017/112017 [00:00<00:00, 230848.09it/s]\n"
     ]
    }
   ],
   "source": [
    "symsynList =[]\n",
    "for loci in tqdm(speciesLSDirectory['SymSyn'].keys()):\n",
    "    for species in speciesLSDirectory['SymSyn'][loci].keys():\n",
    "        symsynList.append(['SymSyn',loci, species, speciesLSDirectory['SymSyn'][loci][species]])\n",
    "SymSynDF = pd.DataFrame(data=symsynList, columns=['Focus_Species','Loci','Query_Species','Matches'])"
   ]
  },
  {
   "cell_type": "code",
   "execution_count": 11,
   "id": "48f1a244-5a67-4142-9acc-f538c8b1a83b",
   "metadata": {},
   "outputs": [
    {
     "name": "stderr",
     "output_type": "stream",
     "text": [
      "100%|██████████| 4625/4625 [00:00<00:00, 839078.51it/s]\n"
     ]
    }
   ],
   "source": [
    "panTroList =[]\n",
    "for loci in tqdm(speciesLSDirectory['PanTro'].keys()):\n",
    "    for species in speciesLSDirectory['PanTro'][loci].keys():\n",
    "        panTroList.append(['PanTro',loci, species, speciesLSDirectory['PanTro'][loci][species]])\n",
    "PanTroDF = pd.DataFrame(data=panTroList, columns=['Focus_Species','Loci','Query_Species','Matches'])"
   ]
  },
  {
   "cell_type": "code",
   "execution_count": 12,
   "id": "8fac514a-72c4-485d-9f3e-2612c30fe0a2",
   "metadata": {},
   "outputs": [],
   "source": [
    "#gorillaDF.to_csv(\"/project/mkonkel/tangeno/TEleaves/LS_Primates/dataframes/GorGor_Matches_06-12-2024.csv\")\n",
    "#PonAbeDF.to_csv(\"/project/mkonkel/tangeno/TEleaves/LS_Primates/dataframes/PonAbe_Matches_06-12-2024.csv\")\n",
    "#PonPygDF.to_csv(\"/project/mkonkel/tangeno/TEleaves/LS_Primates/dataframes/PonPyg_Matches_06-12-2024.csv\")\n",
    "#hs1DF.to_csv(\"/project/mkonkel/tangeno/TEleaves/LS_Primates/dataframes/hs1_Matches_06-12-2024.csv\")\n",
    "#SymSynDF.to_csv(\"/project/mkonkel/tangeno/TEleaves/LS_Primates/dataframes/SymSyn_Matches_06-12-2024.csv\")\n",
    "#PanTroDF.to_csv(\"/project/mkonkel/tangeno/TEleaves/LS_Primates/dataframes/PanTro_Matches_06-12-2024.csv\")\n",
    "#PanPanDF.to_csv(\"/project/mkonkel/tangeno/TEleaves/LS_Primates/dataframes/PanPan_Matches_06-12-2024.csv\")"
   ]
  },
  {
   "cell_type": "code",
   "execution_count": 13,
   "id": "e9a40a6d-45e7-485f-baf2-6a9f2752ac46",
   "metadata": {
    "tags": []
   },
   "outputs": [
    {
     "data": {
      "text/html": [
       "<div>\n",
       "<style scoped>\n",
       "    .dataframe tbody tr th:only-of-type {\n",
       "        vertical-align: middle;\n",
       "    }\n",
       "\n",
       "    .dataframe tbody tr th {\n",
       "        vertical-align: top;\n",
       "    }\n",
       "\n",
       "    .dataframe thead th {\n",
       "        text-align: right;\n",
       "    }\n",
       "</style>\n",
       "<table border=\"1\" class=\"dataframe\">\n",
       "  <thead>\n",
       "    <tr style=\"text-align: right;\">\n",
       "      <th></th>\n",
       "      <th>Focus_Species</th>\n",
       "      <th>Loci</th>\n",
       "      <th>Query_Species</th>\n",
       "      <th>Matches</th>\n",
       "    </tr>\n",
       "  </thead>\n",
       "  <tbody>\n",
       "    <tr>\n",
       "      <th>0</th>\n",
       "      <td>GorGor</td>\n",
       "      <td>CM055446.2:2790607-2795782</td>\n",
       "      <td>GorGor-mat</td>\n",
       "      <td>[+_CM068942.1:2686964-2693388, +_CM068942.1:35...</td>\n",
       "    </tr>\n",
       "    <tr>\n",
       "      <th>1</th>\n",
       "      <td>GorGor</td>\n",
       "      <td>CM055446.2:2790607-2795782</td>\n",
       "      <td>GorGor-pat</td>\n",
       "      <td>[+_CM068948.1:7001966-7008134, +_CM068948.1:71...</td>\n",
       "    </tr>\n",
       "    <tr>\n",
       "      <th>2</th>\n",
       "      <td>GorGor</td>\n",
       "      <td>CM055446.2:3569409-3570230</td>\n",
       "      <td>GorGor-mat</td>\n",
       "      <td>[+_CM068942.1:5275988-5277844, +_CM068942.1:80...</td>\n",
       "    </tr>\n",
       "    <tr>\n",
       "      <th>3</th>\n",
       "      <td>GorGor</td>\n",
       "      <td>CM055446.2:3569409-3570230</td>\n",
       "      <td>GorGor-pat</td>\n",
       "      <td>[+_CM068948.1:3429423-3431260, +_CM068948.1:17...</td>\n",
       "    </tr>\n",
       "    <tr>\n",
       "      <th>4</th>\n",
       "      <td>GorGor</td>\n",
       "      <td>CM055446.2:3569409-3570230</td>\n",
       "      <td>PanPan-mat</td>\n",
       "      <td>[+_CM054490.2:139563004-139564933, -_CM054492....</td>\n",
       "    </tr>\n",
       "    <tr>\n",
       "      <th>...</th>\n",
       "      <td>...</td>\n",
       "      <td>...</td>\n",
       "      <td>...</td>\n",
       "      <td>...</td>\n",
       "    </tr>\n",
       "    <tr>\n",
       "      <th>19863</th>\n",
       "      <td>GorGor</td>\n",
       "      <td>CM068951.1:47457211-47457321</td>\n",
       "      <td>hs1.txt</td>\n",
       "      <td>[+_NC_060946.1:49918908-49920020]</td>\n",
       "    </tr>\n",
       "    <tr>\n",
       "      <th>19864</th>\n",
       "      <td>GorGor</td>\n",
       "      <td>CM068951.1:47794062-47794371</td>\n",
       "      <td>GorGor-pat</td>\n",
       "      <td>[+_CM068949.1:47386348-47387656]</td>\n",
       "    </tr>\n",
       "    <tr>\n",
       "      <th>19865</th>\n",
       "      <td>GorGor</td>\n",
       "      <td>CM068951.1:48322803-48323446</td>\n",
       "      <td>GorGor-pat</td>\n",
       "      <td>[+_CM068949.1:47917838-47919482]</td>\n",
       "    </tr>\n",
       "    <tr>\n",
       "      <th>19866</th>\n",
       "      <td>GorGor</td>\n",
       "      <td>CM068951.1:48440016-48442551</td>\n",
       "      <td>GorGor-pat</td>\n",
       "      <td>[+_CM068949.1:48039846-48043280]</td>\n",
       "    </tr>\n",
       "    <tr>\n",
       "      <th>19867</th>\n",
       "      <td>GorGor</td>\n",
       "      <td>CM068951.1:48685520-48685671</td>\n",
       "      <td>GorGor-pat</td>\n",
       "      <td>[+_CM068949.1:48288958-48290106]</td>\n",
       "    </tr>\n",
       "  </tbody>\n",
       "</table>\n",
       "<p>19868 rows × 4 columns</p>\n",
       "</div>"
      ],
      "text/plain": [
       "      Focus_Species                          Loci Query_Species  \\\n",
       "0            GorGor    CM055446.2:2790607-2795782    GorGor-mat   \n",
       "1            GorGor    CM055446.2:2790607-2795782    GorGor-pat   \n",
       "2            GorGor    CM055446.2:3569409-3570230    GorGor-mat   \n",
       "3            GorGor    CM055446.2:3569409-3570230    GorGor-pat   \n",
       "4            GorGor    CM055446.2:3569409-3570230    PanPan-mat   \n",
       "...             ...                           ...           ...   \n",
       "19863        GorGor  CM068951.1:47457211-47457321       hs1.txt   \n",
       "19864        GorGor  CM068951.1:47794062-47794371    GorGor-pat   \n",
       "19865        GorGor  CM068951.1:48322803-48323446    GorGor-pat   \n",
       "19866        GorGor  CM068951.1:48440016-48442551    GorGor-pat   \n",
       "19867        GorGor  CM068951.1:48685520-48685671    GorGor-pat   \n",
       "\n",
       "                                                 Matches  \n",
       "0      [+_CM068942.1:2686964-2693388, +_CM068942.1:35...  \n",
       "1      [+_CM068948.1:7001966-7008134, +_CM068948.1:71...  \n",
       "2      [+_CM068942.1:5275988-5277844, +_CM068942.1:80...  \n",
       "3      [+_CM068948.1:3429423-3431260, +_CM068948.1:17...  \n",
       "4      [+_CM054490.2:139563004-139564933, -_CM054492....  \n",
       "...                                                  ...  \n",
       "19863                  [+_NC_060946.1:49918908-49920020]  \n",
       "19864                   [+_CM068949.1:47386348-47387656]  \n",
       "19865                   [+_CM068949.1:47917838-47919482]  \n",
       "19866                   [+_CM068949.1:48039846-48043280]  \n",
       "19867                   [+_CM068949.1:48288958-48290106]  \n",
       "\n",
       "[19868 rows x 4 columns]"
      ]
     },
     "execution_count": 13,
     "metadata": {},
     "output_type": "execute_result"
    }
   ],
   "source": [
    "gorillaDF"
   ]
  },
  {
   "cell_type": "markdown",
   "id": "2c39aa65-3781-42ed-b423-6ca3c695cd2c",
   "metadata": {},
   "source": [
    "## DO SOME MANUAL CHECKS"
   ]
  },
  {
   "cell_type": "code",
   "execution_count": 59,
   "id": "de836bf7-ecde-44ac-aa77-2f13d8088458",
   "metadata": {},
   "outputs": [],
   "source": [
    "checkList = ['CM054633.2:184574742-184575061',\n",
    "'CM054640.2:7961999-7962321',\n",
    "'CM054640.2:7996341-7996663',\n",
    "'CM054637.2:136063218-136063533',\n",
    "'CM054635.2:167931986-167932290',\n",
    "'CM054633.2:95818663-95818867',\n",
    "'CM054633.2:84724318-84724475',\n",
    "'CM054634.2:117623306-117623642']\n",
    "\n",
    "checkList2 = [\n",
    "'CM054633.2:95818663-95818867',\n",
    "'CM054633.2:84724318-84724475',\n",
    "'CM054634.2:117623306-117623642']"
   ]
  },
  {
   "cell_type": "code",
   "execution_count": 74,
   "id": "3c9baccb-9ec5-4176-8e10-15e2bd485445",
   "metadata": {},
   "outputs": [],
   "source": [
    "f = open('/project/mkonkel/tangeno/TEleaves/LS_Primates/blat/PonPyg_PonPyg_blat.txt','r')\n",
    "lines = f.readlines()[5:]\n",
    "blatDF = pd.DataFrame(data=[x.split(\"\\t\") for x in lines])\n",
    "blatDF[0]=blatDF[0].astype(int)\n",
    "blatDFF = blatDF[blatDF[9].isin(speciesLSDirectory['PonPyg'].keys())].copy()"
   ]
  },
  {
   "cell_type": "code",
   "execution_count": 75,
   "id": "ccb4def0-aec9-4ebb-8dff-b84261e88ede",
   "metadata": {},
   "outputs": [
    {
     "name": "stdout",
     "output_type": "stream",
     "text": [
      "[1002, '0', '0', '0', '0', '0', '1', '156', '+', 'CM054633.2:84724318-84724475', '1002', '0', '1002', 'CM054633.2', '203829688', '84723817', '84724975', '2', '501,501,', '0,501,', '84723817,84724474,\\n']\n",
      "[1002, '0', '0', '0', '0', '0', '1', '203', '+', 'CM054633.2:95818663-95818867', '1002', '0', '1002', 'CM054633.2', '203829688', '95818162', '95819367', '2', '501,501,', '0,501,', '95818162,95818866,\\n']\n",
      "[1002, '0', '0', '0', '0', '0', '1', '335', '+', 'CM054634.2:117623306-117623642', '1002', '0', '1002', 'CM054634.2', '186348328', '117622805', '117624142', '2', '498,504,', '0,498,', '117622805,117623638,\\n']\n"
     ]
    }
   ],
   "source": [
    "for x in blatDFF[blatDFF[9].isin(checkList2)].index:\n",
    "    print([y for y in blatDFF.loc[x]])"
   ]
  },
  {
   "cell_type": "code",
   "execution_count": 64,
   "id": "97acb7d4-ee68-4c30-828e-54c4679f6448",
   "metadata": {},
   "outputs": [
    {
     "data": {
      "text/plain": [
       "{}"
      ]
     },
     "execution_count": 64,
     "metadata": {},
     "output_type": "execute_result"
    }
   ],
   "source": [
    "speciesLSDirectory['PonPyg']['CM054633.2:84724318-84724475']"
   ]
  },
  {
   "cell_type": "code",
   "execution_count": 27,
   "id": "7cb49141-3ccf-4338-b5de-91e9b1227d31",
   "metadata": {},
   "outputs": [],
   "source": [
    "df = pd.read_csv('/project/mkonkel/tangeno/TEleaves/LS_Primates/dataframes/PonPyg_sv_wRM_wTails_6nt.csv').set_index(\"ID\")\n",
    "workingDF = df[(df['TE_Percentage']>=0.75) & (df['A-Tail_Length']>0) & (df['TE_Designation'].isin(elementList))].copy()        "
   ]
  },
  {
   "cell_type": "code",
   "execution_count": 67,
   "id": "3c951eae-72c0-4e47-b448-47685845aa41",
   "metadata": {},
   "outputs": [],
   "source": [
    "filteredDF = quickFilter(workingDF.loc[checkList])"
   ]
  },
  {
   "cell_type": "code",
   "execution_count": 68,
   "id": "dee15fc0-5d38-4978-ac78-6c0a34200cf3",
   "metadata": {},
   "outputs": [
    {
     "data": {
      "text/html": [
       "<div>\n",
       "<style scoped>\n",
       "    .dataframe tbody tr th:only-of-type {\n",
       "        vertical-align: middle;\n",
       "    }\n",
       "\n",
       "    .dataframe tbody tr th {\n",
       "        vertical-align: top;\n",
       "    }\n",
       "\n",
       "    .dataframe thead th {\n",
       "        text-align: right;\n",
       "    }\n",
       "</style>\n",
       "<table border=\"1\" class=\"dataframe\">\n",
       "  <thead>\n",
       "    <tr style=\"text-align: right;\">\n",
       "      <th></th>\n",
       "      <th>Sequence</th>\n",
       "      <th>Sequence_Length</th>\n",
       "      <th>TE_Percentage</th>\n",
       "      <th>TE_Hits</th>\n",
       "      <th>TE_Designation</th>\n",
       "      <th>TE_Proportion</th>\n",
       "      <th>A-Tail_Length</th>\n",
       "      <th>Double_Tail_Warning</th>\n",
       "      <th>Pos_TSD</th>\n",
       "      <th>Pos_TSD_Length</th>\n",
       "      <th>FILTER_RESULTS</th>\n",
       "    </tr>\n",
       "    <tr>\n",
       "      <th>ID</th>\n",
       "      <th></th>\n",
       "      <th></th>\n",
       "      <th></th>\n",
       "      <th></th>\n",
       "      <th></th>\n",
       "      <th></th>\n",
       "      <th></th>\n",
       "      <th></th>\n",
       "      <th></th>\n",
       "      <th></th>\n",
       "      <th></th>\n",
       "    </tr>\n",
       "  </thead>\n",
       "  <tbody>\n",
       "    <tr>\n",
       "      <th>CM054633.2:184574742-184575061</th>\n",
       "      <td>ccgggcgtggtagctcatgcctgtaatcccagtactttgggaggcc...</td>\n",
       "      <td>319</td>\n",
       "      <td>0.956113</td>\n",
       "      <td>['357 4.2 0.0 0.3 CM054633.2:184574742-1845750...</td>\n",
       "      <td>SINE/Alu</td>\n",
       "      <td>{'SINE/Alu': 0.9561128526645768}</td>\n",
       "      <td>29</td>\n",
       "      <td>NaN</td>\n",
       "      <td>GGAGAAGGGA</td>\n",
       "      <td>10</td>\n",
       "      <td>Good_Row</td>\n",
       "    </tr>\n",
       "    <tr>\n",
       "      <th>CM054640.2:7961999-7962321</th>\n",
       "      <td>ttttttttttttttttttttttttttttgagacagagtctggctct...</td>\n",
       "      <td>322</td>\n",
       "      <td>0.956522</td>\n",
       "      <td>['327 6.4 0.0 0.0 CM054640.2:7961999-7962321 1...</td>\n",
       "      <td>SINE/Alu</td>\n",
       "      <td>{'SINE/Alu': 0.9565217391304348}</td>\n",
       "      <td>28</td>\n",
       "      <td>NaN</td>\n",
       "      <td>NaN</td>\n",
       "      <td>0</td>\n",
       "      <td>Good_Row</td>\n",
       "    </tr>\n",
       "    <tr>\n",
       "      <th>CM054640.2:7996341-7996663</th>\n",
       "      <td>ggctggtcttgaactcttttttttttttttttttttttttttttga...</td>\n",
       "      <td>322</td>\n",
       "      <td>0.947205</td>\n",
       "      <td>['319 6.8 0.0 0.4 CM054640.2:7996341-7996663 1...</td>\n",
       "      <td>SINE/Alu</td>\n",
       "      <td>{'SINE/Alu': 0.9472049689440993}</td>\n",
       "      <td>28</td>\n",
       "      <td>NaN</td>\n",
       "      <td>GGCTGGTCTTGAACTC</td>\n",
       "      <td>16</td>\n",
       "      <td>Good_Row</td>\n",
       "    </tr>\n",
       "    <tr>\n",
       "      <th>CM054637.2:136063218-136063533</th>\n",
       "      <td>AAAAATGggccgggcgtggtggctcacgcctgtaatcctagcactt...</td>\n",
       "      <td>315</td>\n",
       "      <td>0.942857</td>\n",
       "      <td>['340 5.0 0.7 0.0 CM054637.2:136063218-1360635...</td>\n",
       "      <td>SINE/Alu</td>\n",
       "      <td>{'SINE/Alu': 0.9428571428571428}</td>\n",
       "      <td>19</td>\n",
       "      <td>NaN</td>\n",
       "      <td>GAGAGTATGT</td>\n",
       "      <td>10</td>\n",
       "      <td>Good_Row</td>\n",
       "    </tr>\n",
       "    <tr>\n",
       "      <th>CM054635.2:167931986-167932290</th>\n",
       "      <td>AGAAAATACTCTCTgtagctcacgcctgtaatcccagcactttggg...</td>\n",
       "      <td>304</td>\n",
       "      <td>0.937500</td>\n",
       "      <td>['315 8.0 0.0 0.7 CM054635.2:167931986-1679322...</td>\n",
       "      <td>SINE/Alu</td>\n",
       "      <td>{'SINE/Alu': 0.9375}</td>\n",
       "      <td>9</td>\n",
       "      <td>NaN</td>\n",
       "      <td>GAAAAGAAA</td>\n",
       "      <td>9</td>\n",
       "      <td>Good_Row</td>\n",
       "    </tr>\n",
       "    <tr>\n",
       "      <th>CM054633.2:95818663-95818867</th>\n",
       "      <td>aaaaaaaaaaaaaaaaaaaaaaaaaaaaaaattaaaaaagttagtt...</td>\n",
       "      <td>204</td>\n",
       "      <td>0.975490</td>\n",
       "      <td>['24 0.0 0.0 0.0 CM054633.2:95818663-95818867 ...</td>\n",
       "      <td>SINE/Alu</td>\n",
       "      <td>{'Simple_repeat': 0.12254901960784313, 'SINE/A...</td>\n",
       "      <td>11</td>\n",
       "      <td>NaN</td>\n",
       "      <td>NaN</td>\n",
       "      <td>0</td>\n",
       "      <td>Good_Row</td>\n",
       "    </tr>\n",
       "    <tr>\n",
       "      <th>CM054633.2:84724318-84724475</th>\n",
       "      <td>tgtagtcccagctactcgggaggctgaggcagagaattgcttgaac...</td>\n",
       "      <td>157</td>\n",
       "      <td>0.904459</td>\n",
       "      <td>['144 9.8 0.0 0.0 CM054633.2:84724318-84724475...</td>\n",
       "      <td>SINE/Alu</td>\n",
       "      <td>{'SINE/Alu': 0.9044585987261147}</td>\n",
       "      <td>21</td>\n",
       "      <td>NaN</td>\n",
       "      <td>GAAATGGGGCCAG</td>\n",
       "      <td>13</td>\n",
       "      <td>Good_Row</td>\n",
       "    </tr>\n",
       "    <tr>\n",
       "      <th>CM054634.2:117623306-117623642</th>\n",
       "      <td>aaaaaaaaaaaaaaaaaaaaaaaaaagaaaaaaaaggccgggcgcg...</td>\n",
       "      <td>336</td>\n",
       "      <td>0.988095</td>\n",
       "      <td>['30 2.9 0.0 0.0 CM054634.2:117623306-11762364...</td>\n",
       "      <td>SINE/Alu</td>\n",
       "      <td>{'Simple_repeat': 0.10119047619047619, 'SINE/A...</td>\n",
       "      <td>13</td>\n",
       "      <td>NaN</td>\n",
       "      <td>GAAAA</td>\n",
       "      <td>5</td>\n",
       "      <td>Good_Row</td>\n",
       "    </tr>\n",
       "  </tbody>\n",
       "</table>\n",
       "</div>"
      ],
      "text/plain": [
       "                                                                         Sequence  \\\n",
       "ID                                                                                  \n",
       "CM054633.2:184574742-184575061  ccgggcgtggtagctcatgcctgtaatcccagtactttgggaggcc...   \n",
       "CM054640.2:7961999-7962321      ttttttttttttttttttttttttttttgagacagagtctggctct...   \n",
       "CM054640.2:7996341-7996663      ggctggtcttgaactcttttttttttttttttttttttttttttga...   \n",
       "CM054637.2:136063218-136063533  AAAAATGggccgggcgtggtggctcacgcctgtaatcctagcactt...   \n",
       "CM054635.2:167931986-167932290  AGAAAATACTCTCTgtagctcacgcctgtaatcccagcactttggg...   \n",
       "CM054633.2:95818663-95818867    aaaaaaaaaaaaaaaaaaaaaaaaaaaaaaattaaaaaagttagtt...   \n",
       "CM054633.2:84724318-84724475    tgtagtcccagctactcgggaggctgaggcagagaattgcttgaac...   \n",
       "CM054634.2:117623306-117623642  aaaaaaaaaaaaaaaaaaaaaaaaaagaaaaaaaaggccgggcgcg...   \n",
       "\n",
       "                                Sequence_Length  TE_Percentage  \\\n",
       "ID                                                               \n",
       "CM054633.2:184574742-184575061              319       0.956113   \n",
       "CM054640.2:7961999-7962321                  322       0.956522   \n",
       "CM054640.2:7996341-7996663                  322       0.947205   \n",
       "CM054637.2:136063218-136063533              315       0.942857   \n",
       "CM054635.2:167931986-167932290              304       0.937500   \n",
       "CM054633.2:95818663-95818867                204       0.975490   \n",
       "CM054633.2:84724318-84724475                157       0.904459   \n",
       "CM054634.2:117623306-117623642              336       0.988095   \n",
       "\n",
       "                                                                          TE_Hits  \\\n",
       "ID                                                                                  \n",
       "CM054633.2:184574742-184575061  ['357 4.2 0.0 0.3 CM054633.2:184574742-1845750...   \n",
       "CM054640.2:7961999-7962321      ['327 6.4 0.0 0.0 CM054640.2:7961999-7962321 1...   \n",
       "CM054640.2:7996341-7996663      ['319 6.8 0.0 0.4 CM054640.2:7996341-7996663 1...   \n",
       "CM054637.2:136063218-136063533  ['340 5.0 0.7 0.0 CM054637.2:136063218-1360635...   \n",
       "CM054635.2:167931986-167932290  ['315 8.0 0.0 0.7 CM054635.2:167931986-1679322...   \n",
       "CM054633.2:95818663-95818867    ['24 0.0 0.0 0.0 CM054633.2:95818663-95818867 ...   \n",
       "CM054633.2:84724318-84724475    ['144 9.8 0.0 0.0 CM054633.2:84724318-84724475...   \n",
       "CM054634.2:117623306-117623642  ['30 2.9 0.0 0.0 CM054634.2:117623306-11762364...   \n",
       "\n",
       "                               TE_Designation  \\\n",
       "ID                                              \n",
       "CM054633.2:184574742-184575061       SINE/Alu   \n",
       "CM054640.2:7961999-7962321           SINE/Alu   \n",
       "CM054640.2:7996341-7996663           SINE/Alu   \n",
       "CM054637.2:136063218-136063533       SINE/Alu   \n",
       "CM054635.2:167931986-167932290       SINE/Alu   \n",
       "CM054633.2:95818663-95818867         SINE/Alu   \n",
       "CM054633.2:84724318-84724475         SINE/Alu   \n",
       "CM054634.2:117623306-117623642       SINE/Alu   \n",
       "\n",
       "                                                                    TE_Proportion  \\\n",
       "ID                                                                                  \n",
       "CM054633.2:184574742-184575061                   {'SINE/Alu': 0.9561128526645768}   \n",
       "CM054640.2:7961999-7962321                       {'SINE/Alu': 0.9565217391304348}   \n",
       "CM054640.2:7996341-7996663                       {'SINE/Alu': 0.9472049689440993}   \n",
       "CM054637.2:136063218-136063533                   {'SINE/Alu': 0.9428571428571428}   \n",
       "CM054635.2:167931986-167932290                               {'SINE/Alu': 0.9375}   \n",
       "CM054633.2:95818663-95818867    {'Simple_repeat': 0.12254901960784313, 'SINE/A...   \n",
       "CM054633.2:84724318-84724475                     {'SINE/Alu': 0.9044585987261147}   \n",
       "CM054634.2:117623306-117623642  {'Simple_repeat': 0.10119047619047619, 'SINE/A...   \n",
       "\n",
       "                                A-Tail_Length Double_Tail_Warning  \\\n",
       "ID                                                                  \n",
       "CM054633.2:184574742-184575061             29                 NaN   \n",
       "CM054640.2:7961999-7962321                 28                 NaN   \n",
       "CM054640.2:7996341-7996663                 28                 NaN   \n",
       "CM054637.2:136063218-136063533             19                 NaN   \n",
       "CM054635.2:167931986-167932290              9                 NaN   \n",
       "CM054633.2:95818663-95818867               11                 NaN   \n",
       "CM054633.2:84724318-84724475               21                 NaN   \n",
       "CM054634.2:117623306-117623642             13                 NaN   \n",
       "\n",
       "                                         Pos_TSD  Pos_TSD_Length  \\\n",
       "ID                                                                 \n",
       "CM054633.2:184574742-184575061        GGAGAAGGGA              10   \n",
       "CM054640.2:7961999-7962321                   NaN               0   \n",
       "CM054640.2:7996341-7996663      GGCTGGTCTTGAACTC              16   \n",
       "CM054637.2:136063218-136063533        GAGAGTATGT              10   \n",
       "CM054635.2:167931986-167932290         GAAAAGAAA               9   \n",
       "CM054633.2:95818663-95818867                 NaN               0   \n",
       "CM054633.2:84724318-84724475       GAAATGGGGCCAG              13   \n",
       "CM054634.2:117623306-117623642             GAAAA               5   \n",
       "\n",
       "                               FILTER_RESULTS  \n",
       "ID                                             \n",
       "CM054633.2:184574742-184575061       Good_Row  \n",
       "CM054640.2:7961999-7962321           Good_Row  \n",
       "CM054640.2:7996341-7996663           Good_Row  \n",
       "CM054637.2:136063218-136063533       Good_Row  \n",
       "CM054635.2:167931986-167932290       Good_Row  \n",
       "CM054633.2:95818663-95818867         Good_Row  \n",
       "CM054633.2:84724318-84724475         Good_Row  \n",
       "CM054634.2:117623306-117623642       Good_Row  "
      ]
     },
     "execution_count": 68,
     "metadata": {},
     "output_type": "execute_result"
    }
   ],
   "source": [
    "filteredDF"
   ]
  },
  {
   "cell_type": "code",
   "execution_count": 73,
   "id": "b7d837da-69f9-4ac6-b871-1161340d7435",
   "metadata": {},
   "outputs": [
    {
     "data": {
      "text/plain": [
       "{}"
      ]
     },
     "execution_count": 73,
     "metadata": {},
     "output_type": "execute_result"
    }
   ],
   "source": [
    "speciesLSDirectory['PonPyg']['CM054637.2:136063218-136063533']"
   ]
  },
  {
   "cell_type": "code",
   "execution_count": 69,
   "id": "87fd4496-da48-40bf-af96-a7df07bde316",
   "metadata": {},
   "outputs": [],
   "source": [
    "tempDF = PonPygDF[PonPygDF['Loci'].isin(checkList)].copy()"
   ]
  },
  {
   "cell_type": "code",
   "execution_count": null,
   "id": "666c71a0-ba64-4e21-8d1f-eda492ca8e88",
   "metadata": {},
   "outputs": [],
   "source": []
  },
  {
   "cell_type": "code",
   "execution_count": null,
   "id": "aed10819-60de-4d29-8d63-c9cc9573fdd1",
   "metadata": {},
   "outputs": [],
   "source": [
    "## RUN THE CODE BELOW ON PALMETTO SCRIPT"
   ]
  },
  {
   "cell_type": "code",
   "execution_count": 50,
   "id": "9e6e5464-bd4e-4d3e-b1e3-43323f8e59f5",
   "metadata": {},
   "outputs": [],
   "source": [
    "genomeDict ={\n",
    " 'GorGor':'/project/mkonkel/tangeno/TEleaves/genomes/2024_Genomes/GCA_029281585.2_NHGRI_mGorGor1-v2.0_pri_genomic.fna',\n",
    " 'PanPan':'/project/mkonkel/tangeno/TEleaves/genomes/2024_Genomes/GCA_029289425.2_NHGRI_mPanPan1-v2.0_pri_genomic.fna',\n",
    " 'PanTro':'/project/mkonkel/tangeno/TEleaves/genomes/2024_Genomes/GCA_028858775.2_NHGRI_mPanTro3-v2.0_pri_genomic.fna',\n",
    " 'PonAbe':'/project/mkonkel/tangeno/TEleaves/genomes/2024_Genomes/GCA_028885655.2_NHGRI_mPonAbe1-v2.0_pri_genomic.fna',\n",
    " 'PonPyg':'/project/mkonkel/tangeno/TEleaves/genomes/2024_Genomes/GCA_028885625.2_NHGRI_mPonPyg2-v2.0_pri_genomic.fna',\n",
    " 'SymSyn':'/project/mkonkel/tangeno/TEleaves/genomes/2024_Genomes/GCA_028878055.2_NHGRI_mSymSyn1-v2.0_pri_genomic.fna',\n",
    " 'hs1':'/home/loftus/genomes/chm13v2/chm13v2.fasta',   \n",
    "}"
   ]
  },
  {
   "cell_type": "code",
   "execution_count": 51,
   "id": "f47063ca-242c-4c2b-a859-4a3e23acf335",
   "metadata": {},
   "outputs": [],
   "source": [
    "seqSims=[]\n",
    "for row in tempDF.index:\n",
    "    mykmerSize=14\n",
    "    similarities=[]\n",
    "    \n",
    "    contig = str(tempDF.at[row,'Loci'].split(\":\")[0])\n",
    "    \n",
    "    start = str(int(tempDF.at[row,'Loci'].split(\":\")[1].split(\"-\")[0])-500)\n",
    "    end = str(int(tempDF.at[row,'Loci'].split(\":\")[1].split(\"-\")[1])+500)\n",
    "    \n",
    "    sequence = ''.join(pysam.faidx(genomeDict['PonPyg'], str(contig)+\":\"+str(start)+\"-\"+str(end)).split()[1:])\n",
    "    \n",
    "    for match in ast.literal_eval(str(tempDF.at[row,'Matches'])):\n",
    "        \n",
    "        querySpecies = str(tempDF.at[row,'Query_Species'])\n",
    "        \n",
    "        if querySpecies == 'hs1':\n",
    "            coordinate = str('_'.join(match.split(\"_\")[1:]))\n",
    "        else:\n",
    "            coordinate = str(match.split(\"_\")[1])\n",
    "        \n",
    "        if str(match.split(\"_\")[0]) == '+':\n",
    "            \n",
    "            sequence2 = ''.join(pysam.faidx(genomeDict[querySpecies], coordinate).split()[1:])\n",
    "            \n",
    "        else:\n",
    "            presequence = Seq(''.join(pysam.faidx(genomeDict[querySpecies], coordinate).split()[1:]))\n",
    "            sequence2 = str(presequence.reverse_complement())\n",
    "\n",
    "            \n",
    "        kmers=[]\n",
    "        insertionkmers=[]\n",
    "        i=0\n",
    "        while i < (len(sequence)-(mykmerSize-1)):\n",
    "            kmers.append(str(sequence[i:i+mykmerSize]).upper())\n",
    "            insertionkmers.append(str(sequence2[i:i+mykmerSize]).upper())\n",
    "            i+=1\n",
    "\n",
    "        uniqueKmers = set(kmers+insertionkmers)\n",
    "        tempDF2 = pd.DataFrame(0, index=['Reference','MEI'], columns=[x for x in uniqueKmers])\n",
    "\n",
    "        for kmer in kmers:\n",
    "            tempDF2.at['Reference',kmer]+=1\n",
    "        for kmer2 in insertionkmers:\n",
    "            tempDF2.at['MEI',kmer2]+=1\n",
    "\n",
    "        tempDF2.loc['Diff'] = tempDF2.loc['Reference'] - tempDF2.loc['MEI']\n",
    "        tempDF2.loc['Sum'] = tempDF2.loc['Reference'] + tempDF2.loc['MEI']\n",
    "        similarities.append(sum(abs(tempDF2.loc['Diff']))/sum(abs(tempDF2.loc['Sum'])))\n",
    "        \n",
    "    seqSims.append(similarities)\n",
    "tempDF['Hit_Similarity']=seqSims"
   ]
  },
  {
   "cell_type": "code",
   "execution_count": 78,
   "id": "d5fe6266-298b-499e-b2c8-afc9a7cb6a57",
   "metadata": {},
   "outputs": [
    {
     "data": {
      "text/html": [
       "<div>\n",
       "<style scoped>\n",
       "    .dataframe tbody tr th:only-of-type {\n",
       "        vertical-align: middle;\n",
       "    }\n",
       "\n",
       "    .dataframe tbody tr th {\n",
       "        vertical-align: top;\n",
       "    }\n",
       "\n",
       "    .dataframe thead th {\n",
       "        text-align: right;\n",
       "    }\n",
       "</style>\n",
       "<table border=\"1\" class=\"dataframe\">\n",
       "  <thead>\n",
       "    <tr style=\"text-align: right;\">\n",
       "      <th></th>\n",
       "      <th>Focus_Species</th>\n",
       "      <th>Loci</th>\n",
       "      <th>Query_Species</th>\n",
       "      <th>Matches</th>\n",
       "    </tr>\n",
       "  </thead>\n",
       "  <tbody>\n",
       "    <tr>\n",
       "      <th>232</th>\n",
       "      <td>PonPyg</td>\n",
       "      <td>CM054635.2:167931986-167932290</td>\n",
       "      <td>GorGor</td>\n",
       "      <td>[-_CM055451.2:191687611-191688871]</td>\n",
       "    </tr>\n",
       "    <tr>\n",
       "      <th>233</th>\n",
       "      <td>PonPyg</td>\n",
       "      <td>CM054635.2:167931986-167932290</td>\n",
       "      <td>PonAbe</td>\n",
       "      <td>[-_CM054684.2:169382614-169383873]</td>\n",
       "    </tr>\n",
       "    <tr>\n",
       "      <th>234</th>\n",
       "      <td>PonPyg</td>\n",
       "      <td>CM054635.2:167931986-167932290</td>\n",
       "      <td>PonPyg</td>\n",
       "      <td>[-_CM054635.2:168109275-168110532]</td>\n",
       "    </tr>\n",
       "    <tr>\n",
       "      <th>235</th>\n",
       "      <td>PonPyg</td>\n",
       "      <td>CM054635.2:167931986-167932290</td>\n",
       "      <td>hs1</td>\n",
       "      <td>[-_NC_060930.1:168741710-168742976]</td>\n",
       "    </tr>\n",
       "  </tbody>\n",
       "</table>\n",
       "</div>"
      ],
      "text/plain": [
       "    Focus_Species                            Loci Query_Species  \\\n",
       "232        PonPyg  CM054635.2:167931986-167932290        GorGor   \n",
       "233        PonPyg  CM054635.2:167931986-167932290        PonAbe   \n",
       "234        PonPyg  CM054635.2:167931986-167932290        PonPyg   \n",
       "235        PonPyg  CM054635.2:167931986-167932290           hs1   \n",
       "\n",
       "                                 Matches  \n",
       "232   [-_CM055451.2:191687611-191688871]  \n",
       "233   [-_CM054684.2:169382614-169383873]  \n",
       "234   [-_CM054635.2:168109275-168110532]  \n",
       "235  [-_NC_060930.1:168741710-168742976]  "
      ]
     },
     "execution_count": 78,
     "metadata": {},
     "output_type": "execute_result"
    }
   ],
   "source": [
    "tempDF"
   ]
  },
  {
   "cell_type": "code",
   "execution_count": 83,
   "id": "2f04efd9-53ac-4645-af79-d9c2e44e6618",
   "metadata": {},
   "outputs": [
    {
     "data": {
      "text/plain": [
       "167932790"
      ]
     },
     "execution_count": 83,
     "metadata": {},
     "output_type": "execute_result"
    }
   ],
   "source": [
    "167932290+500"
   ]
  },
  {
   "cell_type": "code",
   "execution_count": 84,
   "id": "60e02d68-9e7e-497c-a6ae-ce5e489e0e9b",
   "metadata": {},
   "outputs": [
    {
     "name": "stdout",
     "output_type": "stream",
     "text": [
      ">CM054635.2:167931486-167932790\n",
      "CAAGTCCCTCACTGAATTTGAAATATCAGATAAACAACAGTAATTTTTGGTATAAAAGTATGTTCCATGcaatatttgaa\n",
      "atatacttatgttaaaaattattcatcatttggccgggtgtagtggctcacgcttgtaatcccagcaccctaggaggccg\n",
      "aagcaggcagatcatctgaagtcaggagtctgagagcagcctggaaaacatggtgaaaccctgtctgtactaaaaataca\n",
      "aaaattagccagacgtggtgacgcatgcctgtaattccagctactcaggaggctgaggcaggagaatcgcttgaactggg\n",
      "gaggtggaggttgcagtgagccgagatcgtgccattgcactccagcctgggcaacagagtgagactctgtctcaaataat\n",
      "aataataataataataaattattcatcatttatctaaaattcaaactTCACTGGCCATTTTGTATTATACCTGGCAACCC\n",
      "TAGTTATAAAGCCAGATGATTAGAAAATACTCtctgtagctcacgcctgtaatcccagcactttgggaggcattggcggg\n",
      "cggatcaggaggtagagagatcaagaccagcctggctaacacaggatgaaaccccgtctctactaaaaatacaaaacatt\n",
      "agccgggcgtggtggcaggtgcctgtagtcccagctactcgggaggctgaggcaggagaatggcgtgaacccgggaggtg\n",
      "gagcttgcagtgagctgagatcttgccactgcactccagcctgggcgacagagtgagactctgtctcaaaaaaaaagaaa\n",
      "agaaaagaaaatactctcTATAAATCTCATGaatattttatagattatttGGATAGAACATGTTTCTAAACAGATTCAAT\n",
      "GTAACATACACTGAAAAACTGCATTCTGCAGAAAAGTTCTACCCCAATGGCTCTAAAGAAATCGTGTTTCCCGACGGGAC\n",
      "AGTGAAACGTCTCAAGGATGGACAGGAAGAGACCTTATTTCCTGATGGGACAATCGTAAGGGTGGAAAAAGTCAGTAAAG\n",
      "TCAGACAACGCGAATTCAAAACATCCCCagtttttgtttgtgtatttaataatttccattaattattttagatatttaga\n",
      "taaatatttaGATAATAAATTAATCTAAATATTAATTTAGATTTTTGCAAACATTTAAGTGCttgtataaaaaaatagaa\n",
      "aataatgtcaTTGACTCTAGAAGTTTTGTCTTATGGCCTTGATTTGAATCCCTTTACAGAGACCGTGGGTTTCAAATGGA\n",
      "CTTTCAGGTATTCACTTCACTGACG\n",
      "\n",
      ">GorGor-_CM055451.2:191687611-191688871\n",
      "CAAGTCCCTCACTGAATTTGAAATATCAGATAAACAACAGTAATTTTTGGTATAAAAGTATGTTCCATGTACTATTTGAAATATacttatgttaaaaattattcatcatttggccaggtgtagtggctcacgcctgtaatcccagcaccctgggaggccgaagcaggcagatcatctgaagtcaggagtctgagagcagcctggcaaacatggtgaaaccctgtctctactaaaaatacaaaaattagccaggtgtggtggcgaatgcctgtaattccagctactcaggaggctgaggcaggagaatcgcttgaactggggaggtggaggttgcagtgagccgagatcatgccattgcactccagcctgggcaacagagtgagactctgtctcaaaaaaataataataataaaaataaattattcatcatttatctaaaattcaaaccTCACTGGCCATTTTGTATTATACCTGGCAATCCTAGTTATAAAGCCAGATGATTAGAAAATACTCtctgtagctcacgcctgtaatcccagcactttgggaggcgttggcgggcggatcacgaggtagagagatcacgaccagcctggctaacacagggggaaaccccgtctctactaaaaatacaaaacattagccgggcctggtggcaggcgcctgtagtcccagctactcgggaggctgaggcaggagaatggcgtgaacccgggaggcggagcttgcagtgagccgagatcttgccactgcactccagcctgggcgacagagtgagactctgtctcaaaaaaaaaaaaaagaaaaggaaaggaaagaaaatactcTCTGTAAATCTCATGAATATTTTATAGATTATTTGGATAGAACATGTTTCTAAACAGAGTCAATGTAACATACACTGAAAAACTGCATTCTGCAGAAAAATTCTACCCCAATGGCTCCAAAGAAATCGTGTTTCCCGACGGGACGGTGAAACATCTCAAGGATGGACAGGAAGAGACCTTATTTCCTGATGGGACAATCGTAAGGGTGGAAAGGTCAGTAAAGTCAGACAATGCGAATTCGAAACATCCCCagtttttgtttgtgtatttaataatttctttatattaatttaGATTTTTGCAAACATTTAAGTGCttgtataaaaaaaagaaaataatgccatTGACTCTAGAAGTTTTGTCTTACGGCCTTGATTTGAATCCCTTTCTACAGACTGTGGGTTTCAAATGGACTTTTAGGTATTTACTTCACC\n",
      ">PonAbe-_CM054684.2:169382614-169383873\n",
      "CAAGTCCCTCACTGAATTTGAAATATCAGATAAACAACAGTAATTTTTGGTATTAAAGTATATTCCATGcaatatttgaaatatacttatgttaaaaattattcatcatttggccgggtgtagtggctcatgcctgtaatcccagcaccctgggaggccgaagcaggcagatcatctgaagtcaggagtctgagagcagcctggcaaacatggtgaaaccctgtctgtactaaaaatacaaaaattagccagacgtggtgacgcatgcctgtaattccagctacttaggaggctgaggcaggagaatcgcttgaactggggaggtggaggttgcagtgagccgagatcgtgccattgcactccagcctgggcaacagagtgagactctgtctcaaaaaaaataataataataacaaattattcatcatttatctaaaattcaaactTCACTGGCCATTTTGTATTATACCTGGCAACCCTAGTTATAAAGCCAGATGATTAGAAAATACTCtctgtagctcacgcctgtaatcccagcactttgggaggcattggcgggcggatcaggaggtagagagatcaagaccagcctggctaacacagggtgaaaccccgtctctactaaaaatacaaaacattagccgggcgtggtggcaggtgcttgtagtcccagctactcgggaggctgaggcaggagaatggcgtgaacccgggaggtggagcttgcagtgagctgagatcttgccactgcactccagcctgggcgacagagcgagactctgtctcaaaaaaaaaaaaaaaaaaaaaagaaaagaaaagaaaatactctttATAAATCTCATGAATATTTTATAGATTACTTGGATAGAACATGTTTCTAAACAGATTCAATGTAACATACACTGAAAAACTGCATTCTGCAGAAAAGTTCTACCCCAATGGCTCTAAAGAAATCGTGTTTCCCGACGGGACAGTGAAACGTCTCAAGGATGGACAGGAAGAGACCTTATTTCCTGATGGAACAATCGTAAGGGTGGAAAGGTCAGTAAAGTCAGACAATGCGAATTCAAAACatctcatttttgtttgtgtatttaacaatttctttatattaatttaGGTTTTTGCAAACATTTAAGTGCTTgtataaaaaaaagacaataatgaCATTGATTCTAGAAGTTTTGTCTTATGGCCTTGATTTGAATCCCTTTCTACAGACTGTGGGTTTCAAATGGGCTTTTAGGTATTTACTTCACC\n",
      ">PonPyg-_CM054635.2:168109275-168110532\n",
      "CAAGTCCCTCACTGAATTTGAAATATCAGATAAACAACAGTAATTTTTGGTATTAAAGTATATTCCATGcaatatttgaaatatacttatgttaaaaattattcatcatttggccgggtgtagtggctcatgcctgtaatcccagcaccctgggaggccgaagcaggcagatcatctgaagtcaggagtctgagagcagcctggcaaacatggtgaaaccctgtctgtactaaaaatacaaaaattagccagacgtggtgacgcatgcctgtaattccagctactcaggaggctgaggcaggagaatcgcttgaactggggaggtggaggttgcagtgagccaagatcgtgccattgcactccagcctgggcaacagagtgagactctgtctcaaaaaaaataataataataacaaattattcatcatttatctaaaattcaaactTCACTGGCCATTTTGTATTATACCTGGCAACCCTAGTTATAAAGCCAGATGATTAGAAAATACTCtctgtagctcacgcctgtaatcccagcactttgggaggcattggcgggcggatcaggaggtagagagatcaagactagcctggctaacacagggtgaaaccccgtctctactaaaaatacaaaacattagccgggcgtggtggcaggtgcctgtagtcccagctactcgggaggctgaggcaggagaatggcgtgaacccgggaggtggagcttgcagtgagctgagatcttgccactgcactccagcctgggcgacagagcgagactctgtttcaaaaaaaaaaaaaaaagaaagaaaagaaaagaaaatactctttATAAATCTCATGaatattttatagattatttGGATAGAACATGTTTCTAAACAGATTCAATGTAACATACATTGAAAAACTGCATTCTGCAGAAAAGTTCTACCCCAATGGCTCTAAAGAAATCGTGTTTCCCGACGGGACAGTGAAACGTCTCAAGGATGGACAGGAAGAGACCTTATTTCCTGATGGAACAATCGTAAGGGTGGAAAGGTCAGTAAAGTCAGACAATGCGAATTCAAAACatctcatttttgtttgtgtatttaataatttctttatattaatttaGGTTTTTGCAAACATTTAAGTGCTTgtataaaaaaaagacaataatgaCATTGATTCTAGAAGTTTTGTCTTATGGCCTTGATTTGAATCCCTTTCTACAGACTGTGGGTTTCAAATGGGCTTTTAGGTATTTACTTCACC\n",
      ">hs1-_NC_060930.1:168741710-168742976\n",
      "CAAGTCCCTCACTGAATTTGAAATATCAGATAAACAACAGTAATTTTTGGTATAAAAGTATGTTCCATGTAATATTTGAAATACacttatgttaaaaattattcatcatttggccaggtgtagtggctcacgcctgtaatcccagcaccctgggaggccgaagcaggcagatcatctgaagtcaggagtctgagagcagcctagcaaacatggtgaaaccctgtctctactaaaaatacaaaaattagccaggtgtggtggcgaatgcctgtaattccagctactcaggaggctgaggcaggagaatcgcttgaactggggaggtggagtttgcagtgagccgagatcatgccattgcactccagcctgggcaacagagtgagactctgtctcaaaaaaataataataataaaaataaattattcatcatttatctaaaattcaaactTCACTGGCCATTTTGTATTATACCTGGCAATCCTAGTTATAAAGCCAGATGATTAGAAAATACTCtctgtagctcacgcctgtaatcccagcactttgggaggcgttggcgggcggatcacgaggtagaGAGATCAcaatcagcctggctaacacagggggaaaccccgtctctactaaaaatacaaaacattagccgggcgtggtggcaggcgcctgtagtcccagctactcgggaggctgaggcaggagaatggcgtgaacccgggaggcagagcttgcagtgagccaagatcctgccactgccctgcagcctgggtgacagagtgagactctgtctcaaaaaaaaaaaaaagaaaagaaaagaaaaggaaagaaaatactctCTATAAAtctcatgaatattttatagattatttGCATAGAACATGTTTCTAAACAGATTCAATGTAACATATACTGAAAAACTGCATTCTGCAGAAAAATTCTACCCCAATGGCTCCAAAGAAATCGTGTTTCCCGACGGGACGGTGGAACATCTCAAGGATGGACAGGAAGAGACCTTATTTCCTGATGGGACAATCGTAAGGGTGGAAAGGTCAGTAATGTCAGACAATGCGAATTCAAAACATCCccagtttttgtttgtgtatttaataatttctttatattaatttagATTTTTGCAAACATTTAAGTGcttgtataaaaaaaaagaaaataatgtcattGACTCTAGAAGTTTTGTCTTATGGCCTTGATTTGAATCCCTTTCTACAGACTGTGGGTTTCAAATGGGCTTTTAGGTATTTACTTCACC\n"
     ]
    }
   ],
   "source": [
    "print(pysam.faidx(genomeDict['PonPyg'], 'CM054635.2:167931486-167932790'))\n",
    "for row in tempDF.index:\n",
    "    for match in ast.literal_eval(str(tempDF.at[row,'Matches'])):\n",
    "        #print(match)\n",
    "        querySpecies = str(tempDF.at[row,'Query_Species'])\n",
    "        \n",
    "        if querySpecies == 'hs1':\n",
    "            coordinate = str('_'.join(match.split(\"_\")[1:]))\n",
    "        else:\n",
    "            coordinate = str(match.split(\"_\")[1])\n",
    "        \n",
    "        if str(match.split(\"_\")[0]) == '+':\n",
    "            \n",
    "            sequence2 = ''.join(pysam.faidx(genomeDict[querySpecies], coordinate).split()[1:])\n",
    "            print(\">\"+str(querySpecies)+str(match))\n",
    "            print(sequence2)\n",
    "        else:\n",
    "            \n",
    "            presequence = Seq(''.join(pysam.faidx(genomeDict[querySpecies], coordinate).split()[1:]))\n",
    "            sequence2 = str(presequence.reverse_complement())\n",
    "            print(\">\"+str(querySpecies)+str(match))\n",
    "            print(sequence2)"
   ]
  },
  {
   "cell_type": "code",
   "execution_count": null,
   "id": "137f7e87-369e-4010-8c26-8b1de127ad2e",
   "metadata": {},
   "outputs": [],
   "source": []
  }
 ],
 "metadata": {
  "kernelspec": {
   "display_name": "My Python 2024",
   "language": "python",
   "name": "python_custom"
  },
  "language_info": {
   "codemirror_mode": {
    "name": "ipython",
    "version": 3
   },
   "file_extension": ".py",
   "mimetype": "text/x-python",
   "name": "python",
   "nbconvert_exporter": "python",
   "pygments_lexer": "ipython3",
   "version": "3.10.13"
  }
 },
 "nbformat": 4,
 "nbformat_minor": 5
}
